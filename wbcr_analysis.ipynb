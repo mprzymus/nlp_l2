{
 "cells": [
  {
   "cell_type": "code",
   "execution_count": 1,
   "metadata": {},
   "outputs": [],
   "source": [
    "from config import (\n",
    "    SG_CORPUS,\n",
    "    SG_FULL,\n",
    "    CBOW_CORPUS,\n",
    "    CBOW_FULL,\n",
    "    WBCR_TESTS_LEAST,\n",
    "    WBCR_TESTS_MOST,\n",
    ")\n",
    "from wbcr import run_tests\n"
   ]
  },
  {
   "cell_type": "code",
   "execution_count": 2,
   "metadata": {},
   "outputs": [
    {
     "data": {
      "text/plain": [
       "{'recall': 0.017936242829133687,\n",
       " 'precision': 0.007159420289855073,\n",
       " 'f1': 0.010233887841561186}"
      ]
     },
     "execution_count": 2,
     "metadata": {},
     "output_type": "execute_result"
    }
   ],
   "source": [
    "run_tests(CBOW_CORPUS, WBCR_TESTS_MOST, k=100)"
   ]
  },
  {
   "cell_type": "code",
   "execution_count": 3,
   "metadata": {},
   "outputs": [
    {
     "data": {
      "text/plain": [
       "{'recall': 0.016882516188714152,\n",
       " 'precision': 0.0016026344676180022,\n",
       " 'f1': 0.0029273769900148372}"
      ]
     },
     "execution_count": 3,
     "metadata": {},
     "output_type": "execute_result"
    }
   ],
   "source": [
    "run_tests(CBOW_CORPUS, WBCR_TESTS_LEAST, k=100)"
   ]
  },
  {
   "cell_type": "code",
   "execution_count": 4,
   "metadata": {},
   "outputs": [
    {
     "data": {
      "text/plain": [
       "{'recall': 0.04504030208408975,\n",
       " 'precision': 0.017978260869565218,\n",
       " 'f1': 0.025698659650721965}"
      ]
     },
     "execution_count": 4,
     "metadata": {},
     "output_type": "execute_result"
    }
   ],
   "source": [
    "run_tests(CBOW_FULL, WBCR_TESTS_MOST, k=100)"
   ]
  },
  {
   "cell_type": "code",
   "execution_count": 5,
   "metadata": {},
   "outputs": [
    {
     "data": {
      "text/plain": [
       "{'recall': 0.030064754856614247,\n",
       " 'precision': 0.002854006586169045,\n",
       " 'f1': 0.0052131371055058745}"
      ]
     },
     "execution_count": 5,
     "metadata": {},
     "output_type": "execute_result"
    }
   ],
   "source": [
    "run_tests(CBOW_FULL, WBCR_TESTS_LEAST, k=100)"
   ]
  },
  {
   "cell_type": "code",
   "execution_count": 6,
   "metadata": {},
   "outputs": [
    {
     "data": {
      "text/plain": [
       "{'recall': 0.02067751071091424,\n",
       " 'precision': 0.008253623188405798,\n",
       " 'f1': 0.011797973938803837}"
      ]
     },
     "execution_count": 6,
     "metadata": {},
     "output_type": "execute_result"
    }
   ],
   "source": [
    "run_tests(SG_CORPUS, WBCR_TESTS_MOST, k=100)"
   ]
  },
  {
   "cell_type": "code",
   "execution_count": 7,
   "metadata": {},
   "outputs": [
    {
     "data": {
      "text/plain": [
       "{'recall': 0.01792321924144311,\n",
       " 'precision': 0.0017014270032930845,\n",
       " 'f1': 0.0031078317359746564}"
      ]
     },
     "execution_count": 7,
     "metadata": {},
     "output_type": "execute_result"
    }
   ],
   "source": [
    "run_tests(SG_CORPUS, WBCR_TESTS_LEAST, k=100)"
   ]
  },
  {
   "cell_type": "code",
   "execution_count": 8,
   "metadata": {},
   "outputs": [
    {
     "data": {
      "text/plain": [
       "{'recall': 0.053609033476145526,\n",
       " 'precision': 0.021398550724637682,\n",
       " 'f1': 0.030587723477864558}"
      ]
     },
     "execution_count": 8,
     "metadata": {},
     "output_type": "execute_result"
    }
   ],
   "source": [
    "run_tests(SG_FULL, WBCR_TESTS_MOST, k=100)"
   ]
  },
  {
   "cell_type": "code",
   "execution_count": 9,
   "metadata": {},
   "outputs": [
    {
     "data": {
      "text/plain": [
       "{'recall': 0.03908418131359852,\n",
       " 'precision': 0.0037102085620197584,\n",
       " 'f1': 0.006777078237157637}"
      ]
     },
     "execution_count": 9,
     "metadata": {},
     "output_type": "execute_result"
    }
   ],
   "source": [
    "run_tests(SG_FULL, WBCR_TESTS_LEAST, k=100)"
   ]
  }
 ],
 "metadata": {
  "kernelspec": {
   "display_name": "Python 3",
   "language": "python",
   "name": "python3"
  },
  "language_info": {
   "codemirror_mode": {
    "name": "ipython",
    "version": 3
   },
   "file_extension": ".py",
   "mimetype": "text/x-python",
   "name": "python",
   "nbconvert_exporter": "python",
   "pygments_lexer": "ipython3",
   "version": "3.10.9"
  },
  "orig_nbformat": 4,
  "vscode": {
   "interpreter": {
    "hash": "e7370f93d1d0cde622a1f8e1c04877d8463912d04d973331ad4851f04de6915a"
   }
  }
 },
 "nbformat": 4,
 "nbformat_minor": 2
}
