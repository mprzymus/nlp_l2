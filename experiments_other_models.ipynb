{
 "cells": [
  {
   "cell_type": "code",
   "execution_count": 1,
   "metadata": {},
   "outputs": [
    {
     "name": "stderr",
     "output_type": "stream",
     "text": [
      "Some weights of the model checkpoint at allegro/herbert-base-cased were not used when initializing BertModel: ['cls.predictions.transform.dense.bias', 'cls.predictions.decoder.weight', 'cls.sso.sso_relationship.weight', 'cls.predictions.transform.LayerNorm.weight', 'cls.predictions.transform.dense.weight', 'cls.predictions.bias', 'cls.sso.sso_relationship.bias', 'cls.predictions.decoder.bias', 'cls.predictions.transform.LayerNorm.bias']\n",
      "- This IS expected if you are initializing BertModel from the checkpoint of a model trained on another task or with another architecture (e.g. initializing a BertForSequenceClassification model from a BertForPreTraining model).\n",
      "- This IS NOT expected if you are initializing BertModel from the checkpoint of a model that you expect to be exactly identical (initializing a BertForSequenceClassification model from a BertForSequenceClassification model).\n"
     ]
    }
   ],
   "source": [
    "from config import KOCON_CBOW, KOCON_SKIPGRAM\n",
    "from experiment import run_repeated_fasttext, run_repeated_transformer"
   ]
  },
  {
   "cell_type": "code",
   "execution_count": 4,
   "metadata": {},
   "outputs": [
    {
     "name": "stderr",
     "output_type": "stream",
     "text": [
      "Global seed set to 1\n",
      "Global seed set to 2\n",
      "Global seed set to 3\n",
      "Global seed set to 4\n",
      "Global seed set to 5\n",
      "Global seed set to 6\n",
      "Global seed set to 7\n",
      "Global seed set to 8\n",
      "Global seed set to 9\n",
      "Global seed set to 10\n"
     ]
    },
    {
     "data": {
      "text/plain": [
       "{'test/loss': '0.4223 ± 0.0270',\n",
       " 'test/f1': '0.4744 ± 0.0357',\n",
       " 'test/acc': '0.8715 ± 0.0123',\n",
       " 'test/precision': '0.5409 ± 0.0781',\n",
       " 'test/recall': '0.4373 ± 0.0780',\n",
       " 'train/loss': '0.2534 ± 0.1402',\n",
       " 'train/f1': '0.8232 ± 0.1393',\n",
       " 'train/acc': '0.9580 ± 0.0426',\n",
       " 'train/precision': '0.7292 ± 0.1917',\n",
       " 'train/recall': '0.9805 ± 0.0086'}"
      ]
     },
     "execution_count": 4,
     "metadata": {},
     "output_type": "execute_result"
    }
   ],
   "source": [
    "run_repeated_fasttext(KOCON_CBOW, name=\"kocon_cbow\")"
   ]
  },
  {
   "cell_type": "code",
   "execution_count": 3,
   "metadata": {},
   "outputs": [
    {
     "name": "stderr",
     "output_type": "stream",
     "text": [
      "Global seed set to 1\n",
      "Global seed set to 2\n",
      "Global seed set to 3\n",
      "Global seed set to 4\n",
      "Global seed set to 5\n",
      "Global seed set to 6\n",
      "Global seed set to 7\n",
      "Global seed set to 8\n",
      "Global seed set to 9\n",
      "Global seed set to 10\n"
     ]
    },
    {
     "data": {
      "text/plain": [
       "{'test/loss': '0.4299 ± 0.0496',\n",
       " 'test/f1': '0.5233 ± 0.0349',\n",
       " 'test/acc': '0.8774 ± 0.0131',\n",
       " 'test/precision': '0.5599 ± 0.0675',\n",
       " 'test/recall': '0.5067 ± 0.0889',\n",
       " 'train/loss': '0.2358 ± 0.1641',\n",
       " 'train/f1': '0.8428 ± 0.1618',\n",
       " 'train/acc': '0.9610 ± 0.0478',\n",
       " 'train/precision': '0.7635 ± 0.2215',\n",
       " 'train/recall': '0.9839 ± 0.0134'}"
      ]
     },
     "execution_count": 3,
     "metadata": {},
     "output_type": "execute_result"
    }
   ],
   "source": [
    "run_repeated_fasttext(KOCON_SKIPGRAM, \"kocon_skipgram\")"
   ]
  },
  {
   "cell_type": "code",
   "execution_count": 2,
   "metadata": {},
   "outputs": [
    {
     "name": "stderr",
     "output_type": "stream",
     "text": [
      "Global seed set to 1\n",
      "Global seed set to 2\n",
      "Global seed set to 3\n",
      "Global seed set to 4\n",
      "Global seed set to 5\n",
      "Global seed set to 6\n",
      "Global seed set to 7\n",
      "Global seed set to 8\n",
      "Global seed set to 9\n",
      "Global seed set to 10\n"
     ]
    },
    {
     "data": {
      "text/plain": [
       "{'test/loss': '0.4444 ± 0.0197',\n",
       " 'test/f1': '0.1852 ± 0.0490',\n",
       " 'test/acc': '0.8451 ± 0.0112',\n",
       " 'test/precision': '0.3217 ± 0.0619',\n",
       " 'test/recall': '0.1343 ± 0.0459',\n",
       " 'train/loss': '0.2552 ± 0.0801',\n",
       " 'train/f1': '0.8245 ± 0.0797',\n",
       " 'train/acc': '0.9633 ± 0.0196',\n",
       " 'train/precision': '0.7241 ± 0.1199',\n",
       " 'train/recall': '0.9709 ± 0.0089'}"
      ]
     },
     "execution_count": 2,
     "metadata": {},
     "output_type": "execute_result"
    }
   ],
   "source": [
    "run_repeated_transformer(\"herbert\")"
   ]
  }
 ],
 "metadata": {
  "kernelspec": {
   "display_name": "Python 3 (ipykernel)",
   "language": "python",
   "name": "python3"
  },
  "language_info": {
   "codemirror_mode": {
    "name": "ipython",
    "version": 3
   },
   "file_extension": ".py",
   "mimetype": "text/x-python",
   "name": "python",
   "nbconvert_exporter": "python",
   "pygments_lexer": "ipython3",
   "version": "3.10.8"
  },
  "vscode": {
   "interpreter": {
    "hash": "685727852e42551632e0fc1e43e361d886b7ddaddaf1474b2acdf6903161a758"
   }
  }
 },
 "nbformat": 4,
 "nbformat_minor": 2
}
