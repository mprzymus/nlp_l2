{
 "cells": [
  {
   "cell_type": "code",
   "execution_count": 1,
   "metadata": {},
   "outputs": [],
   "source": [
    "from config import SG_CORPUS, CBOW_CORPUS, SG_FULL, CBOW_FULL\n",
    "from experiment import run_repeated_fasttext"
   ]
  },
  {
   "cell_type": "code",
   "execution_count": 2,
   "metadata": {},
   "outputs": [
    {
     "name": "stderr",
     "output_type": "stream",
     "text": [
      "Global seed set to 1\n",
      "Global seed set to 2\n",
      "Global seed set to 3\n",
      "Global seed set to 4\n",
      "Global seed set to 5\n",
      "Global seed set to 6\n",
      "Global seed set to 7\n",
      "Global seed set to 8\n",
      "Global seed set to 9\n",
      "Global seed set to 10\n"
     ]
    },
    {
     "data": {
      "text/plain": [
       "{'test/loss': '0.4518 ± 0.0390',\n",
       " 'test/f1': '0.4858 ± 0.0287',\n",
       " 'test/acc': '0.8578 ± 0.0175',\n",
       " 'test/precision': '0.4895 ± 0.0948',\n",
       " 'test/recall': '0.5030 ± 0.0770',\n",
       " 'train/loss': '0.2787 ± 0.1287',\n",
       " 'train/f1': '0.8120 ± 0.1245',\n",
       " 'train/acc': '0.9566 ± 0.0344',\n",
       " 'train/precision': '0.7065 ± 0.1790',\n",
       " 'train/recall': '0.9870 ± 0.0054'}"
      ]
     },
     "execution_count": 2,
     "metadata": {},
     "output_type": "execute_result"
    }
   ],
   "source": [
    "run_repeated_fasttext(CBOW_CORPUS, \"cbow_corpus\")"
   ]
  },
  {
   "cell_type": "code",
   "execution_count": 3,
   "metadata": {},
   "outputs": [
    {
     "name": "stderr",
     "output_type": "stream",
     "text": [
      "Global seed set to 1\n",
      "Global seed set to 2\n",
      "Global seed set to 3\n",
      "Global seed set to 4\n",
      "Global seed set to 5\n",
      "Global seed set to 6\n",
      "Global seed set to 7\n",
      "Global seed set to 8\n",
      "Global seed set to 9\n",
      "Global seed set to 10\n"
     ]
    },
    {
     "data": {
      "text/plain": [
       "{'test/loss': '0.4728 ± 0.0378',\n",
       " 'test/f1': '0.4467 ± 0.0266',\n",
       " 'test/acc': '0.8552 ± 0.0185',\n",
       " 'test/precision': '0.4719 ± 0.0540',\n",
       " 'test/recall': '0.4396 ± 0.0789',\n",
       " 'train/loss': '0.2590 ± 0.1569',\n",
       " 'train/f1': '0.8098 ± 0.1560',\n",
       " 'train/acc': '0.9530 ± 0.0438',\n",
       " 'train/precision': '0.7100 ± 0.2225',\n",
       " 'train/recall': '0.9919 ± 0.0039'}"
      ]
     },
     "execution_count": 3,
     "metadata": {},
     "output_type": "execute_result"
    }
   ],
   "source": [
    "run_repeated_fasttext(CBOW_FULL, \"cbow_full\")"
   ]
  },
  {
   "cell_type": "code",
   "execution_count": 4,
   "metadata": {},
   "outputs": [
    {
     "name": "stderr",
     "output_type": "stream",
     "text": [
      "Global seed set to 1\n",
      "Global seed set to 2\n",
      "Global seed set to 3\n",
      "Global seed set to 4\n",
      "Global seed set to 5\n",
      "Global seed set to 6\n",
      "Global seed set to 7\n",
      "Global seed set to 8\n",
      "Global seed set to 9\n",
      "Global seed set to 10\n"
     ]
    },
    {
     "data": {
      "text/plain": [
       "{'test/loss': '0.4377 ± 0.0411',\n",
       " 'test/f1': '0.5163 ± 0.0509',\n",
       " 'test/acc': '0.8724 ± 0.0183',\n",
       " 'test/precision': '0.5471 ± 0.0795',\n",
       " 'test/recall': '0.5172 ± 0.1170',\n",
       " 'train/loss': '0.2436 ± 0.1712',\n",
       " 'train/f1': '0.8346 ± 0.1552',\n",
       " 'train/acc': '0.9600 ± 0.0408',\n",
       " 'train/precision': '0.7475 ± 0.2285',\n",
       " 'train/recall': '0.9912 ± 0.0047'}"
      ]
     },
     "execution_count": 4,
     "metadata": {},
     "output_type": "execute_result"
    }
   ],
   "source": [
    "run_repeated_fasttext(SG_CORPUS, \"sg_corpus\")"
   ]
  },
  {
   "cell_type": "code",
   "execution_count": 5,
   "metadata": {},
   "outputs": [
    {
     "name": "stderr",
     "output_type": "stream",
     "text": [
      "Global seed set to 1\n",
      "Global seed set to 2\n",
      "Global seed set to 3\n",
      "Global seed set to 4\n",
      "Global seed set to 5\n",
      "Global seed set to 6\n",
      "Global seed set to 7\n",
      "Global seed set to 8\n",
      "Global seed set to 9\n",
      "Global seed set to 10\n"
     ]
    },
    {
     "data": {
      "text/plain": [
       "{'test/loss': '0.4377 ± 0.0262',\n",
       " 'test/f1': '0.4864 ± 0.0336',\n",
       " 'test/acc': '0.8683 ± 0.0159',\n",
       " 'test/precision': '0.5227 ± 0.0682',\n",
       " 'test/recall': '0.4672 ± 0.0687',\n",
       " 'train/loss': '0.1786 ± 0.1177',\n",
       " 'train/f1': '0.9048 ± 0.1018',\n",
       " 'train/acc': '0.9799 ± 0.0242',\n",
       " 'train/precision': '0.8444 ± 0.1558',\n",
       " 'train/recall': '0.9918 ± 0.0060'}"
      ]
     },
     "execution_count": 5,
     "metadata": {},
     "output_type": "execute_result"
    }
   ],
   "source": [
    "run_repeated_fasttext(SG_FULL, \"sg_full\")"
   ]
  }
 ],
 "metadata": {
  "kernelspec": {
   "display_name": "Python 3",
   "language": "python",
   "name": "python3"
  },
  "language_info": {
   "codemirror_mode": {
    "name": "ipython",
    "version": 3
   },
   "file_extension": ".py",
   "mimetype": "text/x-python",
   "name": "python",
   "nbconvert_exporter": "python",
   "pygments_lexer": "ipython3",
   "version": "3.10.9"
  },
  "orig_nbformat": 4,
  "vscode": {
   "interpreter": {
    "hash": "e7370f93d1d0cde622a1f8e1c04877d8463912d04d973331ad4851f04de6915a"
   }
  }
 },
 "nbformat": 4,
 "nbformat_minor": 2
}
